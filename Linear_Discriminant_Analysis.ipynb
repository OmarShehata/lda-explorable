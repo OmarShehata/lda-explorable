{
  "nbformat": 4,
  "nbformat_minor": 0,
  "metadata": {
    "colab": {
      "name": "Linear Discriminant Analysis.ipynb",
      "version": "0.3.2",
      "provenance": []
    },
    "kernelspec": {
      "name": "python3",
      "display_name": "Python 3"
    }
  },
  "cells": [
    {
      "metadata": {
        "id": "wdGV_hFKEnpC",
        "colab_type": "text"
      },
      "cell_type": "markdown",
      "source": [
        "# A Geometric Intuition for Linear Discrminant Analysis\n",
        "\n",
        "This notebook supplements the article at https://omarshehata.github.io/lda-explorable/. \n",
        "\n",
        "It's provided as a reference for performing LDA in Python."
      ]
    },
    {
      "metadata": {
        "id": "YE231r3rn6na",
        "colab_type": "code",
        "colab": {}
      },
      "cell_type": "code",
      "source": [
        "# Import the libraries we need\n",
        "import numpy as np\n",
        "import pandas as pd\n",
        "from numpy.linalg import matrix_rank\n",
        "import matplotlib.pyplot as plt\n",
        "from sklearn.preprocessing import scale\n",
        "from sklearn.discriminant_analysis import LinearDiscriminantAnalysis"
      ],
      "execution_count": 0,
      "outputs": []
    },
    {
      "metadata": {
        "id": "DSnJLl4OFIxY",
        "colab_type": "text"
      },
      "cell_type": "markdown",
      "source": [
        "Peform LDA on the 2D case. First we load the same data used in the article from the GitHub repository."
      ]
    },
    {
      "metadata": {
        "id": "XorPB9QnFIRf",
        "colab_type": "code",
        "outputId": "aa01bba8-7a79-4480-919f-ab194f8156ce",
        "colab": {
          "base_uri": "https://localhost:8080/",
          "height": 361
        }
      },
      "cell_type": "code",
      "source": [
        "data_url = 'https://omarshehata.github.io/lda-explorable/data/sample-2d.csv'\n",
        "data = pd.read_csv(data_url)\n",
        "\n",
        "# Flip the Y to match the JavaScript graph \n",
        "data['Distance'] = -data['Distance']\n",
        "\n",
        "ax = data[data['class'] == 0].plot.scatter(x='Price', y='Distance', c='red', s=40);\n",
        "ax = data[data['class'] == 1].plot.scatter(x='Price', y='Distance', c='blue', s=40,ax=ax);"
      ],
      "execution_count": 2,
      "outputs": [
        {
          "output_type": "display_data",
          "data": {
            "image/png": "[encoded data removed]",
            "text/plain": [
              "<matplotlib.figure.Figure at 0x7f97c5d5acf8>"
            ]
          },
          "metadata": {
            "tags": []
          }
        }
      ]
    },
    {
      "metadata": {
        "id": "zwyRS65UFfjY",
        "colab_type": "text"
      },
      "cell_type": "markdown",
      "source": [
        "Now we perform LDA and reduce the data down to 1 dimension."
      ]
    },
    {
      "metadata": {
        "id": "kU0QOIoJRutj",
        "colab_type": "code",
        "outputId": "7c2e177c-a5eb-48b4-fe3f-b400e7c8395f",
        "colab": {
          "base_uri": "https://localhost:8080/",
          "height": 361
        }
      },
      "cell_type": "code",
      "source": [
        "# Initialize the LDA to reduce to 1 dimension\n",
        "LDA = LinearDiscriminantAnalysis(n_components=1, solver='eigen')\n",
        "# Separate the data and class \n",
        "Features = data.loc[:,'Price':'Distance'].values\n",
        "Classes = data['class']\n",
        "# Find the best projection \n",
        "ProjectedData = LDA.fit_transform(Features, Classes)\n",
        "# Put it in a dataframe and plot it\n",
        "n = ProjectedData.shape[0]\n",
        "newData = pd.DataFrame(data={\n",
        "    'class' : Classes,\n",
        "    'x' : ProjectedData.reshape(n),\n",
        "    'y' : np.zeros(n)\n",
        "})\n",
        "\n",
        "ax = newData[newData['class'] == 0].plot.scatter(x='x', y='y', c='red', s=40);\n",
        "ax = newData[newData['class'] == 1].plot.scatter(x='x', y='y', c='blue', s=40,ax=ax);"
      ],
      "execution_count": 3,
      "outputs": [
        {
          "output_type": "display_data",
          "data": {
            "image/png": "[encoded data removed]",
            "text/plain": [
              "<matplotlib.figure.Figure at 0x7f97996b3908>"
            ]
          },
          "metadata": {
            "tags": []
          }
        }
      ]
    },
    {
      "metadata": {
        "id": "r3a9xx9fIVQS",
        "colab_type": "text"
      },
      "cell_type": "markdown",
      "source": [
        "LDA for the 3D case."
      ]
    },
    {
      "metadata": {
        "id": "ypPNg_0U5__t",
        "colab_type": "code",
        "outputId": "ac43a4dd-a690-45d5-f9b6-2e7d0d386d8f",
        "colab": {
          "base_uri": "https://localhost:8080/",
          "height": 361
        }
      },
      "cell_type": "code",
      "source": [
        "# Load the same data in the article\n",
        "data_url = 'https://omarshehata.github.io/lda-explorable/data/sample-3d.csv'\n",
        "data = pd.read_csv(data_url)\n",
        "# Initialize LDA to project to 2 dimensions\n",
        "LDA = LinearDiscriminantAnalysis(n_components=2, solver='eigen')\n",
        "\n",
        "Features = data.loc[:,'X':'Z'].values\n",
        "Classes = data['class']\n",
        "\n",
        "ProjectedData = LDA.fit_transform(Features, Classes)\n",
        "\n",
        "# Put it in a data frame and plot it\n",
        "n = ProjectedData.shape[0]\n",
        "newData = pd.DataFrame(data={\n",
        "    'class' : Classes,\n",
        "    'x' : np.zeros(n),\n",
        "    'y' : np.zeros(n)\n",
        "})\n",
        "newData.loc[:,'x':'y'] = ProjectedData\n",
        "\n",
        "ax = newData[newData['class'] == 0].plot.scatter(x='x', y='y', c='red', s=40);\n",
        "ax = newData[newData['class'] == 1].plot.scatter(x='x', y='y', c='blue', s=40,ax=ax);\n",
        "ax = newData[newData['class'] == 2].plot.scatter(x='x', y='y', c='orange', s=40,ax=ax);"
      ],
      "execution_count": 4,
      "outputs": [
        {
          "output_type": "display_data",
          "data": {
            "image/png": "[encoded data removed]",
            "text/plain": [
              "<matplotlib.figure.Figure at 0x7f9796e33278>"
            ]
          },
          "metadata": {
            "tags": []
          }
        }
      ]
    },
    {
      "metadata": {
        "id": "I_ASdKzeKmAS",
        "colab_type": "text"
      },
      "cell_type": "markdown",
      "source": [
        "LDA in 4D."
      ]
    },
    {
      "metadata": {
        "id": "1RWac-X4Knby",
        "colab_type": "code",
        "colab": {}
      },
      "cell_type": "code",
      "source": [
        "data_url = 'https://omarshehata.github.io/lda-explorable/data/sample-4d.csv'\n",
        "data = pd.read_csv(data_url)\n",
        "\n",
        "LDA = LinearDiscriminantAnalysis(n_components=2, solver='eigen')\n",
        "\n",
        "Features = data.loc[:,'X':'W'].values\n",
        "Classes = data['class']\n",
        "\n",
        "# Try this one yourself. The 3D case is the closest example. \n",
        "# 1 - Run the fit_transform function to get the projected data\n",
        "# 2 - Put it in a data frame \n",
        "# 3 - Plot it in 2D\n",
        "# 4 - Can you find this same projection back in the diagram in the article?"
      ],
      "execution_count": 0,
      "outputs": []
    }
  ]
}